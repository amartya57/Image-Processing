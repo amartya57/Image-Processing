{
 "cells": [
  {
   "cell_type": "code",
   "execution_count": 1,
   "metadata": {
    "colab": {},
    "colab_type": "code",
    "id": "dn-6c02VmqiN"
   },
   "outputs": [],
   "source": [
    "import os\n",
    "import zipfile\n",
    "import random\n",
    "import shutil\n",
    "import tensorflow as tf\n",
    "from tensorflow.keras.optimizers import RMSprop\n",
    "from tensorflow.keras.preprocessing.image import ImageDataGenerator\n",
    "from shutil import copyfile\n",
    "from os import getcwd\n",
    "import numpy as np"
   ]
  },
  {
   "cell_type": "code",
   "execution_count": 2,
   "metadata": {},
   "outputs": [],
   "source": [
    "path_cats_and_dogs = f\"{getcwd()}\\cats-vs-dogs.zip\"\n",
    "\n",
    "local_zip = path_cats_and_dogs\n",
    "zip_ref = zipfile.ZipFile(local_zip, 'r')\n",
    "zip_ref.extractall(f'{getcwd()}')\n",
    "zip_ref.close()"
   ]
  },
  {
   "cell_type": "code",
   "execution_count": 3,
   "metadata": {
    "colab": {},
    "colab_type": "code",
    "id": "gi3yD62a6X3S"
   },
   "outputs": [
    {
     "name": "stdout",
     "output_type": "stream",
     "text": [
      "5001\n",
      "5001\n"
     ]
    }
   ],
   "source": [
    "print(len(os.listdir(f'{getcwd()}\\cats-vs-dogs\\cats')))\n",
    "print(len(os.listdir(f'{getcwd()}\\cats-vs-dogs\\dogs')))\n"
   ]
  },
  {
   "cell_type": "code",
   "execution_count": 4,
   "metadata": {},
   "outputs": [],
   "source": [
    "try:\n",
    "    os.mkdir(f'{getcwd()}\\cats-dogs')\n",
    "    os.mkdir(f'{getcwd()}\\cats-dogs\\\\training')\n",
    "    os.mkdir(f'{getcwd()}\\cats-dogs\\\\testing')\n",
    "    os.mkdir(f'{getcwd()}\\cats-dogs\\\\training\\\\cats')\n",
    "    os.mkdir(f'{getcwd()}\\cats-dogs\\\\training\\\\dogs')\n",
    "    os.mkdir(f'{getcwd()}\\cats-dogs\\\\testing\\\\cats')\n",
    "    os.mkdir(f'{getcwd()}\\cats-dogs\\\\testing\\\\dogs')\n",
    "except OSError:\n",
    "    print('wrong')"
   ]
  },
  {
   "cell_type": "code",
   "execution_count": 5,
   "metadata": {},
   "outputs": [],
   "source": [
    "\n",
    "def split_data(SOURCE, TRAINING, TESTING, SPLIT_SIZE):   \n",
    "    src=SOURCE\n",
    "    all_file_names=os.listdir(src)\n",
    "    random.sample(all_file_names,len(all_file_names))\n",
    "    train_FileNames,test_FileNames=np.split(np.array(all_file_names),\n",
    "                             [int(len(all_file_names)*SPLIT_SIZE)]\n",
    "                             )\n",
    "    \n",
    "    train_FileNames = [src+'\\\\'+ name for name in train_FileNames.tolist()]\n",
    "    test_FileNames = [src+'\\\\' + name for name in test_FileNames.tolist()]\n",
    "\n",
    "    \n",
    "    for names in train_FileNames:\n",
    "        shutil.copy(names,TRAINING)\n",
    "        \n",
    "    for names in test_FileNames:\n",
    "        shutil.copy(names,TESTING)\n",
    "\n",
    "\n",
    "CAT_SOURCE_DIR = f'{getcwd()}\\cats-vs-dogs\\cats'\n",
    "TRAINING_CATS_DIR = f'{getcwd()}\\cats-dogs\\\\training\\\\cats'\n",
    "TESTING_CATS_DIR = f'{getcwd()}\\cats-dogs\\\\testing\\\\cats'\n",
    "DOG_SOURCE_DIR = f'{getcwd()}\\cats-vs-dogs\\dogs'\n",
    "TRAINING_DOGS_DIR = f'{getcwd()}\\cats-dogs\\\\training\\\\dogs'\n",
    "TESTING_DOGS_DIR = f'{getcwd()}\\cats-dogs\\\\testing\\\\dogs'\n",
    "\n",
    "split_size = .9\n",
    "split_data(CAT_SOURCE_DIR, TRAINING_CATS_DIR, TESTING_CATS_DIR, split_size)\n",
    "split_data(DOG_SOURCE_DIR, TRAINING_DOGS_DIR, TESTING_DOGS_DIR, split_size)"
   ]
  },
  {
   "cell_type": "code",
   "execution_count": 6,
   "metadata": {
    "colab": {},
    "colab_type": "code",
    "id": "luthalB76ufC"
   },
   "outputs": [
    {
     "name": "stdout",
     "output_type": "stream",
     "text": [
      "4500\n",
      "4500\n",
      "501\n",
      "501\n"
     ]
    }
   ],
   "source": [
    "print(len(os.listdir(f'{getcwd()}\\cats-dogs\\\\training\\\\cats')))\n",
    "print(len(os.listdir(f'{getcwd()}\\cats-dogs\\\\training\\\\dogs')))\n",
    "print(len(os.listdir(f'{getcwd()}\\cats-dogs\\\\testing\\\\cats')))\n",
    "print(len(os.listdir(f'{getcwd()}\\cats-dogs\\\\testing\\\\dogs')))\n"
   ]
  },
  {
   "cell_type": "code",
   "execution_count": null,
   "metadata": {
    "colab": {},
    "colab_type": "code",
    "id": "-BQrav4anTmj"
   },
   "outputs": [],
   "source": [
    "\n",
    "model = tf.keras.models.Sequential([\n",
    "    tf.keras.layers.Conv2D(16,(3,3), activation='relu', input_shape=(150,150,3)),\n",
    "    tf.keras.layers.MaxPooling2D(2,2),\n",
    "    tf.keras.layers.Conv2D(32,(3,3), activation='relu'),\n",
    "    tf.keras.layers.MaxPooling2D(2,2),\n",
    "    tf.keras.layers.Conv2D(64,(3,3), activation='relu'),\n",
    "    tf.keras.layers.MaxPooling2D(2,2),\n",
    "    \n",
    "    tf.keras.layers.Flatten(),\n",
    "    tf.keras.layers.Dense(units=512, activation='relu'),\n",
    "    tf.keras.layers.Dense(units=1, activation='sigmoid')\n",
    "    \n",
    "])\n",
    "\n",
    "model.compile(optimizer=RMSprop(lr=0.001), loss='binary_crossentropy', metrics=['acc'])"
   ]
  },
  {
   "cell_type": "code",
   "execution_count": null,
   "metadata": {
    "colab": {},
    "colab_type": "code",
    "id": "mlNjoJ5D61N6"
   },
   "outputs": [],
   "source": [
    "TRAINING_DIR =f'{getcwd()}\\cats-dogs\\\\training' \n",
    "train_datagen = ImageDataGenerator(\n",
    "    rescale=1./255,\n",
    "    rotation_range=40,\n",
    "    width_shift_range=0.2,\n",
    "    height_shift_range=0.2,\n",
    "    shear_range=0.2,\n",
    "    zoom_range=0.2,\n",
    "    horizontal_flip=True,\n",
    "    fill_mode=\"nearest\")\n",
    "    \n",
    "\n",
    "train_generator = train_datagen.flow_from_directory(\n",
    "    TRAINING_DIR,\n",
    "    batch_size=32,\n",
    "    target_size=(150,150),\n",
    "    class_mode='binary'\n",
    ")\n",
    "\n",
    "VALIDATION_DIR = f'{getcwd()}\\cats-dogs\\\\testing'\n",
    "validation_datagen = ImageDataGenerator(\n",
    "    rescale=1./255,\n",
    "    rotation_range=40,\n",
    "    width_shift_range=0.2,\n",
    "    height_shift_range=0.2,\n",
    "    shear_range=0.2,\n",
    "    zoom_range=0.2,\n",
    "    horizontal_flip=True,\n",
    "    fill_mode=\"nearest\"\n",
    ")\n",
    "\n",
    "\n",
    "validation_generator = validation_datagen.flow_from_directory(\n",
    "    VALIDATION_DIR,\n",
    "    batch_size=32,\n",
    "    target_size=(150,150),\n",
    "    class_mode='binary'\n",
    ")\n",
    "\n"
   ]
  },
  {
   "cell_type": "code",
   "execution_count": null,
   "metadata": {
    "colab": {},
    "colab_type": "code",
    "id": "KyS4n53w7DxC"
   },
   "outputs": [],
   "source": [
    "history = model.fit_generator(train_generator,\n",
    "                              epochs=25,\n",
    "                              verbose=1,\n",
    "                              validation_data=validation_generator)\n"
   ]
  },
  {
   "cell_type": "code",
   "execution_count": null,
   "metadata": {
    "colab": {},
    "colab_type": "code",
    "id": "MWZrJN4-65RC"
   },
   "outputs": [],
   "source": [
    "# PLOT LOSS AND ACCURACY\n",
    "%matplotlib inline\n",
    "\n",
    "import matplotlib.image  as mpimg\n",
    "import matplotlib.pyplot as plt\n",
    "\n",
    "acc=history.history['acc']\n",
    "val_acc=history.history['val_acc']\n",
    "loss=history.history['loss']\n",
    "val_loss=history.history['val_loss']\n",
    "\n",
    "epochs=range(len(acc)) # Get number of epochs\n",
    "\n",
    "#------------------------------------------------\n",
    "# Plot training and validation accuracy per epoch\n",
    "#------------------------------------------------\n",
    "plt.plot(epochs, acc, 'r', \"Training Accuracy\")\n",
    "plt.plot(epochs, val_acc, 'b', \"Validation Accuracy\")\n",
    "plt.title('Training and validation accuracy')\n",
    "plt.figure()\n",
    "\n",
    "#------------------------------------------------\n",
    "# Plot training and validation loss per epoch\n",
    "#------------------------------------------------\n",
    "plt.plot(epochs, loss, 'r', \"Training Loss\")\n",
    "plt.plot(epochs, val_loss, 'b', \"Validation Loss\")\n",
    "\n",
    "\n",
    "plt.title('Training and validation loss')\n"
   ]
  },
  {
   "cell_type": "code",
   "execution_count": null,
   "metadata": {},
   "outputs": [],
   "source": []
  }
 ],
 "metadata": {
  "accelerator": "GPU",
  "colab": {
   "collapsed_sections": [],
   "name": "Exercise 6 - Question.ipynb",
   "provenance": []
  },
  "coursera": {
   "course_slug": "convolutional-neural-networks-tensorflow",
   "graded_item_id": "uAPOR",
   "launcher_item_id": "e9lTb"
  },
  "kernelspec": {
   "display_name": "Python 3",
   "language": "python",
   "name": "python3"
  },
  "language_info": {
   "codemirror_mode": {
    "name": "ipython",
    "version": 3
   },
   "file_extension": ".py",
   "mimetype": "text/x-python",
   "name": "python",
   "nbconvert_exporter": "python",
   "pygments_lexer": "ipython3",
   "version": "3.7.6"
  }
 },
 "nbformat": 4,
 "nbformat_minor": 1
}
