{
 "cells": [
  {
   "cell_type": "code",
   "execution_count": 1,
   "metadata": {},
   "outputs": [],
   "source": [
    "import numpy as np\n",
    "from os import getcwd\n",
    "import tensorflow as tf\n",
    "from tensorflow.keras.preprocessing.image import ImageDataGenerator"
   ]
  },
  {
   "cell_type": "code",
   "execution_count": 2,
   "metadata": {},
   "outputs": [],
   "source": [
    "train_data_path= f'{getcwd()}\\mnist_train.csv'\n",
    "validation_data_path= f'{getcwd()}\\mnist_test.csv'"
   ]
  },
  {
   "cell_type": "code",
   "execution_count": 3,
   "metadata": {},
   "outputs": [],
   "source": [
    "def get_data(filename):\n",
    "    with open(filename) as training_file:\n",
    "        ndata=np.loadtxt(training_file, delimiter=',', skiprows=1)\n",
    "        labels=ndata[:,0].astype(int)\n",
    "        images=ndata[:,1:].astype(float).reshape((ndata.shape[0],28,28))\n",
    "        ndata=None\n",
    "    return images,labels"
   ]
  },
  {
   "cell_type": "code",
   "execution_count": 4,
   "metadata": {},
   "outputs": [],
   "source": [
    "training_images,training_labels=get_data(train_data_path)\n",
    "validation_images,validation_data=get_data(validation_data_path)"
   ]
  },
  {
   "cell_type": "code",
   "execution_count": 5,
   "metadata": {},
   "outputs": [
    {
     "name": "stdout",
     "output_type": "stream",
     "text": [
      "(60000, 28, 28)\n",
      "(10000, 28, 28)\n"
     ]
    }
   ],
   "source": [
    "print(training_images.shape)\n",
    "print(validation_images.shape)"
   ]
  },
  {
   "cell_type": "code",
   "execution_count": 6,
   "metadata": {},
   "outputs": [],
   "source": [
    "training_images=np.expand_dims(training_images,axis=3)\n",
    "validation_images=np.expand_dims(validation_images,axis=3)"
   ]
  },
  {
   "cell_type": "code",
   "execution_count": 7,
   "metadata": {},
   "outputs": [
    {
     "name": "stdout",
     "output_type": "stream",
     "text": [
      "(60000, 28, 28, 1)\n",
      "(10000, 28, 28, 1)\n"
     ]
    }
   ],
   "source": [
    "print(training_images.shape)\n",
    "print(validation_images.shape)"
   ]
  },
  {
   "cell_type": "code",
   "execution_count": 22,
   "metadata": {},
   "outputs": [],
   "source": [
    "train_datagen=ImageDataGenerator(rescale=1./255,\n",
    "                                 rotation_range=2,\n",
    "                                 height_shift_range=0.002,\n",
    "                                 width_shift_range=0.002,\n",
    "                                 zoom_range=0.002,\n",
    "                                 shear_range=0.002,\n",
    "                                 horizontal_flip=True,\n",
    "                                 fill_mode=\"nearest\")\n",
    "validation_datagen=ImageDataGenerator(rescale=1./255)"
   ]
  },
  {
   "cell_type": "code",
   "execution_count": 23,
   "metadata": {},
   "outputs": [],
   "source": [
    "model=tf.keras.models.Sequential([\n",
    "    tf.keras.layers.Conv2D(16,(3,3), activation='relu', input_shape=(28,28,1)),\n",
    "    tf.keras.layers.MaxPooling2D(2,2),\n",
    "    tf.keras.layers.Conv2D(32,(3,3), activation='relu'),\n",
    "    tf.keras.layers.MaxPooling2D(2,2),\n",
    "    tf.keras.layers.Conv2D(32,(3,3), activation='relu'),\n",
    "    tf.keras.layers.MaxPooling2D(2,2),\n",
    "    tf.keras.layers.Flatten(),\n",
    "    tf.keras.layers.Dense(128, activation='relu'),\n",
    "    tf.keras.layers.Dense(10, activation='softmax')\n",
    "])"
   ]
  },
  {
   "cell_type": "code",
   "execution_count": 24,
   "metadata": {},
   "outputs": [],
   "source": [
    "from tensorflow.keras.optimizers import RMSprop\n",
    "model.compile(optimizer=RMSprop(lr=0.0001), loss='sparse_categorical_crossentropy',\n",
    "             metrics=['acc'])"
   ]
  },
  {
   "cell_type": "code",
   "execution_count": 25,
   "metadata": {},
   "outputs": [
    {
     "name": "stdout",
     "output_type": "stream",
     "text": [
      "WARNING:tensorflow:sample_weight modes were coerced from\n",
      "  ...\n",
      "    to  \n",
      "  ['...']\n",
      "WARNING:tensorflow:sample_weight modes were coerced from\n",
      "  ...\n",
      "    to  \n",
      "  ['...']\n",
      "Train for 6000 steps, validate for 1000 steps\n",
      "Epoch 1/10\n",
      "6000/6000 [==============================] - 24s 4ms/step - loss: 0.8552 - acc: 0.7291 - val_loss: 0.4530 - val_acc: 0.8498\n",
      "Epoch 2/10\n",
      "6000/6000 [==============================] - 23s 4ms/step - loss: 0.4005 - acc: 0.8718 - val_loss: 0.3329 - val_acc: 0.8899\n",
      "Epoch 3/10\n",
      "6000/6000 [==============================] - 24s 4ms/step - loss: 0.3218 - acc: 0.8984 - val_loss: 0.2669 - val_acc: 0.9127\n",
      "Epoch 4/10\n",
      "6000/6000 [==============================] - 24s 4ms/step - loss: 0.2746 - acc: 0.9136 - val_loss: 0.2462 - val_acc: 0.9231\n",
      "Epoch 5/10\n",
      "6000/6000 [==============================] - 24s 4ms/step - loss: 0.2436 - acc: 0.9239 - val_loss: 0.2239 - val_acc: 0.9282\n",
      "Epoch 6/10\n",
      "6000/6000 [==============================] - 24s 4ms/step - loss: 0.2237 - acc: 0.9315 - val_loss: 0.1964 - val_acc: 0.9403\n",
      "Epoch 7/10\n",
      "6000/6000 [==============================] - 24s 4ms/step - loss: 0.2071 - acc: 0.9368 - val_loss: 0.1937 - val_acc: 0.9373\n",
      "Epoch 8/10\n",
      "6000/6000 [==============================] - 24s 4ms/step - loss: 0.1939 - acc: 0.9398 - val_loss: 0.1848 - val_acc: 0.9436\n",
      "Epoch 9/10\n",
      "6000/6000 [==============================] - 24s 4ms/step - loss: 0.1818 - acc: 0.9451 - val_loss: 0.1699 - val_acc: 0.9463\n",
      "Epoch 10/10\n",
      "6000/6000 [==============================] - 24s 4ms/step - loss: 0.1725 - acc: 0.9473 - val_loss: 0.1505 - val_acc: 0.9537\n"
     ]
    }
   ],
   "source": [
    "history=model.fit_generator(generator=train_datagen.flow(training_images,\n",
    "                                                        training_labels,\n",
    "                                                        batch_size=10),\n",
    "                           validation_data=validation_datagen.flow(validation_images,\n",
    "                                                                  validation_data,\n",
    "                                                                  batch_size=10),\n",
    "                           epochs=10)"
   ]
  },
  {
   "cell_type": "code",
   "execution_count": 20,
   "metadata": {},
   "outputs": [
    {
     "data": {
      "text/plain": [
       "array([0, 1, 2, 3, 4, 5, 6, 7, 8, 9])"
      ]
     },
     "execution_count": 20,
     "metadata": {},
     "output_type": "execute_result"
    }
   ],
   "source": [
    "np.unique(training_labels)"
   ]
  },
  {
   "cell_type": "code",
   "execution_count": 26,
   "metadata": {},
   "outputs": [],
   "source": [
    "import matplotlib.pyplot as plt"
   ]
  },
  {
   "cell_type": "code",
   "execution_count": 27,
   "metadata": {},
   "outputs": [],
   "source": [
    "acc=history.history['acc']\n",
    "val_acc=history.history['val_acc']\n",
    "loss=history.history['loss']\n",
    "val_loss=history.history['val_loss']"
   ]
  },
  {
   "cell_type": "code",
   "execution_count": 30,
   "metadata": {},
   "outputs": [
    {
     "data": {
      "image/png": "[encoded data removed]",
      "text/plain": [
       "<Figure size 432x288 with 1 Axes>"
      ]
     },
     "metadata": {
      "needs_background": "light"
     },
     "output_type": "display_data"
    },
    {
     "data": {
      "text/plain": [
       "<Figure size 432x288 with 0 Axes>"
      ]
     },
     "metadata": {},
     "output_type": "display_data"
    }
   ],
   "source": [
    "epoch=range(len(acc))\n",
    "plt.plot(epoch,acc,'r',label='Training_acc')\n",
    "plt.plot(epoch,val_acc,'b',label='Validation_acc')\n",
    "plt.title('Accuracy')\n",
    "plt.legend()\n",
    "plt.figure()\n",
    "plt.show()"
   ]
  },
  {
   "cell_type": "code",
   "execution_count": 31,
   "metadata": {},
   "outputs": [
    {
     "data": {
      "image/png": "[encoded data removed]",
      "text/plain": [
       "<Figure size 432x288 with 1 Axes>"
      ]
     },
     "metadata": {
      "needs_background": "light"
     },
     "output_type": "display_data"
    },
    {
     "data": {
      "text/plain": [
       "<Figure size 432x288 with 0 Axes>"
      ]
     },
     "metadata": {},
     "output_type": "display_data"
    }
   ],
   "source": [
    "epoch=range(len(acc))\n",
    "plt.plot(epoch,loss,'r',label='Training_loss')\n",
    "plt.plot(epoch,val_loss,'b',label='Validation_loss')\n",
    "plt.title('Loss')\n",
    "plt.legend()\n",
    "plt.figure()\n",
    "plt.show()"
   ]
  },
  {
   "cell_type": "code",
   "execution_count": null,
   "metadata": {},
   "outputs": [],
   "source": []
  }
 ],
 "metadata": {
  "kernelspec": {
   "display_name": "Python 3",
   "language": "python",
   "name": "python3"
  },
  "language_info": {
   "codemirror_mode": {
    "name": "ipython",
    "version": 3
   },
   "file_extension": ".py",
   "mimetype": "text/x-python",
   "name": "python",
   "nbconvert_exporter": "python",
   "pygments_lexer": "ipython3",
   "version": "3.7.6"
  }
 },
 "nbformat": 4,
 "nbformat_minor": 4
}
